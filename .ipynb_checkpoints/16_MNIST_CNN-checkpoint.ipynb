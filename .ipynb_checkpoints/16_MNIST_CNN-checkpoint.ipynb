version https://git-lfs.github.com/spec/v1
oid sha256:05a441368ec738fd8b6119f0a25c0cc3d68ac1ee5df6ef0d36a45f3dede2155a
size 17531
