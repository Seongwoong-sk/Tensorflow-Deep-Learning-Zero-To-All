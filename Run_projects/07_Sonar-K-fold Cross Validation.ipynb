version https://git-lfs.github.com/spec/v1
oid sha256:f434b55d3739c1d1714815c0703c841e2c7161d8205c74d4abce774a5bd00801
size 132088
