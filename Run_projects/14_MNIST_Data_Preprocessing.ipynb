version https://git-lfs.github.com/spec/v1
oid sha256:5e7563a49dd8e0acd2c7734f63fb4542ce4aa5fbf21a24128625b90b1688c8d6
size 30096
