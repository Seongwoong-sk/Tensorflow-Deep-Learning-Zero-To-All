version https://git-lfs.github.com/spec/v1
oid sha256:6c3f8e78d5f3ccc61f225a07a4702d14b536b1741954517bf9246cf8045d5bb8
size 57074
