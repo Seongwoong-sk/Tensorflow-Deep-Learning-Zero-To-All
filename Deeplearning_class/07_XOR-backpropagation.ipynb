version https://git-lfs.github.com/spec/v1
oid sha256:2d5e5e55d4faa30dbfa57bfed9fe4ee893506d23c42c560283b6152c73d0dd2d
size 12622
